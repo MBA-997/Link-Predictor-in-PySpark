{
  "nbformat": 4,
  "nbformat_minor": 0,
  "metadata": {
    "colab": {
      "name": "PDC-Project-Cooler.ipynb",
      "provenance": [],
      "collapsed_sections": []
    },
    "kernelspec": {
      "name": "python3",
      "display_name": "Python 3"
    },
    "language_info": {
      "name": "python"
    }
  },
  "cells": [
    {
      "cell_type": "code",
      "execution_count": null,
      "metadata": {
        "colab": {
          "base_uri": "https://localhost:8080/"
        },
        "id": "Vw3OKzjdTG5j",
        "outputId": "63dd20cd-56eb-4673-c314-6805276d6402"
      },
      "outputs": [
        {
          "output_type": "stream",
          "name": "stdout",
          "text": [
            "Mounted at /content/drive\n"
          ]
        }
      ],
      "source": [
        "from google.colab import drive\n",
        "drive.mount('/content/drive')"
      ]
    },
    {
      "cell_type": "code",
      "source": [
        "!pip install pyspark"
      ],
      "metadata": {
        "colab": {
          "base_uri": "https://localhost:8080/"
        },
        "id": "gnSvYkwDTILa",
        "outputId": "64c50069-be29-49eb-bbed-07064fa291c1"
      },
      "execution_count": null,
      "outputs": [
        {
          "output_type": "stream",
          "name": "stdout",
          "text": [
            "Collecting pyspark\n",
            "  Downloading pyspark-3.2.0.tar.gz (281.3 MB)\n",
            "\u001b[K     |████████████████████████████████| 281.3 MB 39 kB/s \n",
            "\u001b[?25hCollecting py4j==0.10.9.2\n",
            "  Downloading py4j-0.10.9.2-py2.py3-none-any.whl (198 kB)\n",
            "\u001b[K     |████████████████████████████████| 198 kB 48.2 MB/s \n",
            "\u001b[?25hBuilding wheels for collected packages: pyspark\n",
            "  Building wheel for pyspark (setup.py) ... \u001b[?25l\u001b[?25hdone\n",
            "  Created wheel for pyspark: filename=pyspark-3.2.0-py2.py3-none-any.whl size=281805912 sha256=3d08e443fec5f40455fdcde595735446c17ab523a3052e38896f81c5c07a3761\n",
            "  Stored in directory: /root/.cache/pip/wheels/0b/de/d2/9be5d59d7331c6c2a7c1b6d1a4f463ce107332b1ecd4e80718\n",
            "Successfully built pyspark\n",
            "Installing collected packages: py4j, pyspark\n",
            "Successfully installed py4j-0.10.9.2 pyspark-3.2.0\n"
          ]
        }
      ]
    },
    {
      "cell_type": "code",
      "source": [
        "!apt-get update -qq > /dev/null\n",
        "!apt-get install openjdk-8-jdk-headless -qq > /dev/null\n",
        "!wget -q https://downloads.apache.org/spark/spark-3.2.0/spark-3.2.0-bin-hadoop2.7.tgz\n",
        "!tar xf spark-3.2.0-bin-hadoop2.7.tgz\n",
        "!pip install -q findspark\n"
      ],
      "metadata": {
        "id": "2eMrSyGZTKD5"
      },
      "execution_count": null,
      "outputs": []
    },
    {
      "cell_type": "code",
      "source": [
        "\n",
        "import os\n",
        "os.environ[\"JAVA_HOME\"] = \"/usr/lib/jvm/java-8-openjdk-amd64\"\n",
        "os.environ[\"SPARK_HOME\"] = \"/content/spark-3.2.0-bin-hadoop2.7\"\n",
        "\n",
        "import findspark\n",
        "findspark.init()\n",
        "\n",
        "from pyspark import SparkContext, SparkConf\n",
        "\n",
        "\n"
      ],
      "metadata": {
        "id": "ZdWiVIvqTMkw"
      },
      "execution_count": null,
      "outputs": []
    },
    {
      "cell_type": "code",
      "source": [
        "from pyspark.sql import SparkSession\n",
        "\n",
        "spark = SparkSession.builder \\\n",
        "    .master('local[*]') \\\n",
        "    .config(\"spark.driver.memory\", \"15g\") \\\n",
        "    .appName('PDC-project-cooler') \\\n",
        "    .getOrCreate()"
      ],
      "metadata": {
        "id": "5iIqbD5BTTbp"
      },
      "execution_count": null,
      "outputs": []
    },
    {
      "cell_type": "code",
      "source": [
        "import pandas as pd\n",
        "data = pd.read_csv('/content/drive/MyDrive/Colab Notebooks/soc-LiveJournal1.txt', delimiter='\\t')"
      ],
      "metadata": {
        "id": "SN8_kU_OTV-L"
      },
      "execution_count": null,
      "outputs": []
    },
    {
      "cell_type": "code",
      "source": [
        "data.head()"
      ],
      "metadata": {
        "colab": {
          "base_uri": "https://localhost:8080/",
          "height": 206
        },
        "id": "xDSwwmYXUUy6",
        "outputId": "ecb3d596-d60e-4ed8-beb3-95080115f95e"
      },
      "execution_count": null,
      "outputs": [
        {
          "output_type": "execute_result",
          "data": {
            "text/html": [
              "\n",
              "  <div id=\"df-79293d60-4904-4b57-879e-ccceeaf21bba\">\n",
              "    <div class=\"colab-df-container\">\n",
              "      <div>\n",
              "<style scoped>\n",
              "    .dataframe tbody tr th:only-of-type {\n",
              "        vertical-align: middle;\n",
              "    }\n",
              "\n",
              "    .dataframe tbody tr th {\n",
              "        vertical-align: top;\n",
              "    }\n",
              "\n",
              "    .dataframe thead th {\n",
              "        text-align: right;\n",
              "    }\n",
              "</style>\n",
              "<table border=\"1\" class=\"dataframe\">\n",
              "  <thead>\n",
              "    <tr style=\"text-align: right;\">\n",
              "      <th></th>\n",
              "      <th>FromNodeId</th>\n",
              "      <th>ToNodeId</th>\n",
              "    </tr>\n",
              "  </thead>\n",
              "  <tbody>\n",
              "    <tr>\n",
              "      <th>0</th>\n",
              "      <td>0</td>\n",
              "      <td>1</td>\n",
              "    </tr>\n",
              "    <tr>\n",
              "      <th>1</th>\n",
              "      <td>0</td>\n",
              "      <td>2</td>\n",
              "    </tr>\n",
              "    <tr>\n",
              "      <th>2</th>\n",
              "      <td>0</td>\n",
              "      <td>3</td>\n",
              "    </tr>\n",
              "    <tr>\n",
              "      <th>3</th>\n",
              "      <td>0</td>\n",
              "      <td>4</td>\n",
              "    </tr>\n",
              "    <tr>\n",
              "      <th>4</th>\n",
              "      <td>0</td>\n",
              "      <td>5</td>\n",
              "    </tr>\n",
              "  </tbody>\n",
              "</table>\n",
              "</div>\n",
              "      <button class=\"colab-df-convert\" onclick=\"convertToInteractive('df-79293d60-4904-4b57-879e-ccceeaf21bba')\"\n",
              "              title=\"Convert this dataframe to an interactive table.\"\n",
              "              style=\"display:none;\">\n",
              "        \n",
              "  <svg xmlns=\"http://www.w3.org/2000/svg\" height=\"24px\"viewBox=\"0 0 24 24\"\n",
              "       width=\"24px\">\n",
              "    <path d=\"M0 0h24v24H0V0z\" fill=\"none\"/>\n",
              "    <path d=\"M18.56 5.44l.94 2.06.94-2.06 2.06-.94-2.06-.94-.94-2.06-.94 2.06-2.06.94zm-11 1L8.5 8.5l.94-2.06 2.06-.94-2.06-.94L8.5 2.5l-.94 2.06-2.06.94zm10 10l.94 2.06.94-2.06 2.06-.94-2.06-.94-.94-2.06-.94 2.06-2.06.94z\"/><path d=\"M17.41 7.96l-1.37-1.37c-.4-.4-.92-.59-1.43-.59-.52 0-1.04.2-1.43.59L10.3 9.45l-7.72 7.72c-.78.78-.78 2.05 0 2.83L4 21.41c.39.39.9.59 1.41.59.51 0 1.02-.2 1.41-.59l7.78-7.78 2.81-2.81c.8-.78.8-2.07 0-2.86zM5.41 20L4 18.59l7.72-7.72 1.47 1.35L5.41 20z\"/>\n",
              "  </svg>\n",
              "      </button>\n",
              "      \n",
              "  <style>\n",
              "    .colab-df-container {\n",
              "      display:flex;\n",
              "      flex-wrap:wrap;\n",
              "      gap: 12px;\n",
              "    }\n",
              "\n",
              "    .colab-df-convert {\n",
              "      background-color: #E8F0FE;\n",
              "      border: none;\n",
              "      border-radius: 50%;\n",
              "      cursor: pointer;\n",
              "      display: none;\n",
              "      fill: #1967D2;\n",
              "      height: 32px;\n",
              "      padding: 0 0 0 0;\n",
              "      width: 32px;\n",
              "    }\n",
              "\n",
              "    .colab-df-convert:hover {\n",
              "      background-color: #E2EBFA;\n",
              "      box-shadow: 0px 1px 2px rgba(60, 64, 67, 0.3), 0px 1px 3px 1px rgba(60, 64, 67, 0.15);\n",
              "      fill: #174EA6;\n",
              "    }\n",
              "\n",
              "    [theme=dark] .colab-df-convert {\n",
              "      background-color: #3B4455;\n",
              "      fill: #D2E3FC;\n",
              "    }\n",
              "\n",
              "    [theme=dark] .colab-df-convert:hover {\n",
              "      background-color: #434B5C;\n",
              "      box-shadow: 0px 1px 3px 1px rgba(0, 0, 0, 0.15);\n",
              "      filter: drop-shadow(0px 1px 2px rgba(0, 0, 0, 0.3));\n",
              "      fill: #FFFFFF;\n",
              "    }\n",
              "  </style>\n",
              "\n",
              "      <script>\n",
              "        const buttonEl =\n",
              "          document.querySelector('#df-79293d60-4904-4b57-879e-ccceeaf21bba button.colab-df-convert');\n",
              "        buttonEl.style.display =\n",
              "          google.colab.kernel.accessAllowed ? 'block' : 'none';\n",
              "\n",
              "        async function convertToInteractive(key) {\n",
              "          const element = document.querySelector('#df-79293d60-4904-4b57-879e-ccceeaf21bba');\n",
              "          const dataTable =\n",
              "            await google.colab.kernel.invokeFunction('convertToInteractive',\n",
              "                                                     [key], {});\n",
              "          if (!dataTable) return;\n",
              "\n",
              "          const docLinkHtml = 'Like what you see? Visit the ' +\n",
              "            '<a target=\"_blank\" href=https://colab.research.google.com/notebooks/data_table.ipynb>data table notebook</a>'\n",
              "            + ' to learn more about interactive tables.';\n",
              "          element.innerHTML = '';\n",
              "          dataTable['output_type'] = 'display_data';\n",
              "          await google.colab.output.renderOutput(dataTable, element);\n",
              "          const docLink = document.createElement('div');\n",
              "          docLink.innerHTML = docLinkHtml;\n",
              "          element.appendChild(docLink);\n",
              "        }\n",
              "      </script>\n",
              "    </div>\n",
              "  </div>\n",
              "  "
            ],
            "text/plain": [
              "   FromNodeId  ToNodeId\n",
              "0           0         1\n",
              "1           0         2\n",
              "2           0         3\n",
              "3           0         4\n",
              "4           0         5"
            ]
          },
          "metadata": {},
          "execution_count": 7
        }
      ]
    },
    {
      "cell_type": "code",
      "source": [
        "data.columns = ['User','Connections']"
      ],
      "metadata": {
        "id": "STx-e1O4UZWp"
      },
      "execution_count": null,
      "outputs": []
    },
    {
      "cell_type": "code",
      "source": [
        "data.head()"
      ],
      "metadata": {
        "colab": {
          "base_uri": "https://localhost:8080/",
          "height": 206
        },
        "id": "Tgfnb_1HUZtk",
        "outputId": "28638ddc-75eb-4129-c6a0-abf4eda324e7"
      },
      "execution_count": null,
      "outputs": [
        {
          "output_type": "execute_result",
          "data": {
            "text/html": [
              "\n",
              "  <div id=\"df-08880087-9d98-4c7c-a2c2-546fb13fff14\">\n",
              "    <div class=\"colab-df-container\">\n",
              "      <div>\n",
              "<style scoped>\n",
              "    .dataframe tbody tr th:only-of-type {\n",
              "        vertical-align: middle;\n",
              "    }\n",
              "\n",
              "    .dataframe tbody tr th {\n",
              "        vertical-align: top;\n",
              "    }\n",
              "\n",
              "    .dataframe thead th {\n",
              "        text-align: right;\n",
              "    }\n",
              "</style>\n",
              "<table border=\"1\" class=\"dataframe\">\n",
              "  <thead>\n",
              "    <tr style=\"text-align: right;\">\n",
              "      <th></th>\n",
              "      <th>User</th>\n",
              "      <th>Connections</th>\n",
              "    </tr>\n",
              "  </thead>\n",
              "  <tbody>\n",
              "    <tr>\n",
              "      <th>0</th>\n",
              "      <td>0</td>\n",
              "      <td>1</td>\n",
              "    </tr>\n",
              "    <tr>\n",
              "      <th>1</th>\n",
              "      <td>0</td>\n",
              "      <td>2</td>\n",
              "    </tr>\n",
              "    <tr>\n",
              "      <th>2</th>\n",
              "      <td>0</td>\n",
              "      <td>3</td>\n",
              "    </tr>\n",
              "    <tr>\n",
              "      <th>3</th>\n",
              "      <td>0</td>\n",
              "      <td>4</td>\n",
              "    </tr>\n",
              "    <tr>\n",
              "      <th>4</th>\n",
              "      <td>0</td>\n",
              "      <td>5</td>\n",
              "    </tr>\n",
              "  </tbody>\n",
              "</table>\n",
              "</div>\n",
              "      <button class=\"colab-df-convert\" onclick=\"convertToInteractive('df-08880087-9d98-4c7c-a2c2-546fb13fff14')\"\n",
              "              title=\"Convert this dataframe to an interactive table.\"\n",
              "              style=\"display:none;\">\n",
              "        \n",
              "  <svg xmlns=\"http://www.w3.org/2000/svg\" height=\"24px\"viewBox=\"0 0 24 24\"\n",
              "       width=\"24px\">\n",
              "    <path d=\"M0 0h24v24H0V0z\" fill=\"none\"/>\n",
              "    <path d=\"M18.56 5.44l.94 2.06.94-2.06 2.06-.94-2.06-.94-.94-2.06-.94 2.06-2.06.94zm-11 1L8.5 8.5l.94-2.06 2.06-.94-2.06-.94L8.5 2.5l-.94 2.06-2.06.94zm10 10l.94 2.06.94-2.06 2.06-.94-2.06-.94-.94-2.06-.94 2.06-2.06.94z\"/><path d=\"M17.41 7.96l-1.37-1.37c-.4-.4-.92-.59-1.43-.59-.52 0-1.04.2-1.43.59L10.3 9.45l-7.72 7.72c-.78.78-.78 2.05 0 2.83L4 21.41c.39.39.9.59 1.41.59.51 0 1.02-.2 1.41-.59l7.78-7.78 2.81-2.81c.8-.78.8-2.07 0-2.86zM5.41 20L4 18.59l7.72-7.72 1.47 1.35L5.41 20z\"/>\n",
              "  </svg>\n",
              "      </button>\n",
              "      \n",
              "  <style>\n",
              "    .colab-df-container {\n",
              "      display:flex;\n",
              "      flex-wrap:wrap;\n",
              "      gap: 12px;\n",
              "    }\n",
              "\n",
              "    .colab-df-convert {\n",
              "      background-color: #E8F0FE;\n",
              "      border: none;\n",
              "      border-radius: 50%;\n",
              "      cursor: pointer;\n",
              "      display: none;\n",
              "      fill: #1967D2;\n",
              "      height: 32px;\n",
              "      padding: 0 0 0 0;\n",
              "      width: 32px;\n",
              "    }\n",
              "\n",
              "    .colab-df-convert:hover {\n",
              "      background-color: #E2EBFA;\n",
              "      box-shadow: 0px 1px 2px rgba(60, 64, 67, 0.3), 0px 1px 3px 1px rgba(60, 64, 67, 0.15);\n",
              "      fill: #174EA6;\n",
              "    }\n",
              "\n",
              "    [theme=dark] .colab-df-convert {\n",
              "      background-color: #3B4455;\n",
              "      fill: #D2E3FC;\n",
              "    }\n",
              "\n",
              "    [theme=dark] .colab-df-convert:hover {\n",
              "      background-color: #434B5C;\n",
              "      box-shadow: 0px 1px 3px 1px rgba(0, 0, 0, 0.15);\n",
              "      filter: drop-shadow(0px 1px 2px rgba(0, 0, 0, 0.3));\n",
              "      fill: #FFFFFF;\n",
              "    }\n",
              "  </style>\n",
              "\n",
              "      <script>\n",
              "        const buttonEl =\n",
              "          document.querySelector('#df-08880087-9d98-4c7c-a2c2-546fb13fff14 button.colab-df-convert');\n",
              "        buttonEl.style.display =\n",
              "          google.colab.kernel.accessAllowed ? 'block' : 'none';\n",
              "\n",
              "        async function convertToInteractive(key) {\n",
              "          const element = document.querySelector('#df-08880087-9d98-4c7c-a2c2-546fb13fff14');\n",
              "          const dataTable =\n",
              "            await google.colab.kernel.invokeFunction('convertToInteractive',\n",
              "                                                     [key], {});\n",
              "          if (!dataTable) return;\n",
              "\n",
              "          const docLinkHtml = 'Like what you see? Visit the ' +\n",
              "            '<a target=\"_blank\" href=https://colab.research.google.com/notebooks/data_table.ipynb>data table notebook</a>'\n",
              "            + ' to learn more about interactive tables.';\n",
              "          element.innerHTML = '';\n",
              "          dataTable['output_type'] = 'display_data';\n",
              "          await google.colab.output.renderOutput(dataTable, element);\n",
              "          const docLink = document.createElement('div');\n",
              "          docLink.innerHTML = docLinkHtml;\n",
              "          element.appendChild(docLink);\n",
              "        }\n",
              "      </script>\n",
              "    </div>\n",
              "  </div>\n",
              "  "
            ],
            "text/plain": [
              "   User  Connections\n",
              "0     0            1\n",
              "1     0            2\n",
              "2     0            3\n",
              "3     0            4\n",
              "4     0            5"
            ]
          },
          "metadata": {},
          "execution_count": 9
        }
      ]
    },
    {
      "cell_type": "code",
      "source": [
        "data.to_csv('prepared_data.csv')\n"
      ],
      "metadata": {
        "id": "H0CkP9ssUbz2"
      },
      "execution_count": null,
      "outputs": []
    },
    {
      "cell_type": "code",
      "source": [
        "network_data1 = spark.read.option('header','true').csv('prepared_data.csv',inferSchema=True)"
      ],
      "metadata": {
        "id": "qN0ChoHNUdyn"
      },
      "execution_count": null,
      "outputs": []
    },
    {
      "cell_type": "code",
      "source": [
        "network_data1.head(5)"
      ],
      "metadata": {
        "colab": {
          "base_uri": "https://localhost:8080/"
        },
        "id": "G4vjIK03UgNN",
        "outputId": "6d752b4d-1dd6-4d8e-c5f8-3b85659f8879"
      },
      "execution_count": null,
      "outputs": [
        {
          "output_type": "execute_result",
          "data": {
            "text/plain": [
              "[Row(_c0=0, User=0, Connections=1),\n",
              " Row(_c0=1, User=0, Connections=2),\n",
              " Row(_c0=2, User=0, Connections=3),\n",
              " Row(_c0=3, User=0, Connections=4),\n",
              " Row(_c0=4, User=0, Connections=5)]"
            ]
          },
          "metadata": {},
          "execution_count": 12
        }
      ]
    },
    {
      "cell_type": "code",
      "source": [
        "column_to_drop = ['_c0']\n",
        "network_data1 = network_data1.drop(*column_to_drop)"
      ],
      "metadata": {
        "id": "ZbKx7FZ7Uh7H"
      },
      "execution_count": null,
      "outputs": []
    },
    {
      "cell_type": "code",
      "source": [
        "network_data1.head(5)"
      ],
      "metadata": {
        "colab": {
          "base_uri": "https://localhost:8080/"
        },
        "id": "fdRTnGDeUkfj",
        "outputId": "2b6fe089-e90a-4d76-856f-a30be555bcd2"
      },
      "execution_count": null,
      "outputs": [
        {
          "output_type": "execute_result",
          "data": {
            "text/plain": [
              "[Row(User=0, Connections=1),\n",
              " Row(User=0, Connections=2),\n",
              " Row(User=0, Connections=3),\n",
              " Row(User=0, Connections=4),\n",
              " Row(User=0, Connections=5)]"
            ]
          },
          "metadata": {},
          "execution_count": 14
        }
      ]
    },
    {
      "cell_type": "code",
      "source": [
        "network_data1.na.drop(how='any')"
      ],
      "metadata": {
        "colab": {
          "base_uri": "https://localhost:8080/"
        },
        "id": "Y7dcx7mhUmT0",
        "outputId": "e0e49ccb-ecc4-4ec9-b4a7-da35b347073f"
      },
      "execution_count": null,
      "outputs": [
        {
          "output_type": "execute_result",
          "data": {
            "text/plain": [
              "DataFrame[User: int, Connections: int]"
            ]
          },
          "metadata": {},
          "execution_count": 15
        }
      ]
    },
    {
      "cell_type": "code",
      "source": [
        "network_data1.printSchema()"
      ],
      "metadata": {
        "colab": {
          "base_uri": "https://localhost:8080/"
        },
        "id": "dJavavPhUqed",
        "outputId": "58344bf4-3613-40cb-dc06-37a109b6097f"
      },
      "execution_count": null,
      "outputs": [
        {
          "output_type": "stream",
          "name": "stdout",
          "text": [
            "root\n",
            " |-- User: integer (nullable = true)\n",
            " |-- Connections: integer (nullable = true)\n",
            "\n"
          ]
        }
      ]
    },
    {
      "cell_type": "code",
      "source": [
        "network_data = spark.read.csv('prepared_data.csv', inferSchema=True, header=True).rdd"
      ],
      "metadata": {
        "id": "ouZYJYheUsaP"
      },
      "execution_count": null,
      "outputs": []
    },
    {
      "cell_type": "code",
      "source": [
        "no_connections = network_data.map(lambda row: (row[1], 1)).reduceByKey(lambda a,b: a+b)"
      ],
      "metadata": {
        "id": "yfCZdpNHUuXJ"
      },
      "execution_count": null,
      "outputs": []
    },
    {
      "cell_type": "code",
      "source": [
        "connections_list_distinct = no_connections.collect()\n",
        "network_data = 0\n",
        "network_data2 = 0\n",
        "data=0"
      ],
      "metadata": {
        "id": "bGnut36uUv6P"
      },
      "execution_count": null,
      "outputs": []
    },
    {
      "cell_type": "code",
      "source": [
        "connections_list=list()\n",
        "connections_list_connections = list()\n",
        "common_ = list()\n",
        "\n",
        "connections = network_data1.select('Connections').collect()\n",
        "\n",
        "for j in connections:\n",
        "  if j[0]<5:\n",
        "    connections_list_connections.append(connections_list_distinct[j[0]][1])\n",
        "  else:\n",
        "    connections_list_connections.append(0)\n",
        "connections=0\n",
        "\n",
        "users = network_data1.select('User').collect()\n",
        "for i in users:\n",
        "  connections_list.append(connections_list_distinct[i[0]][1])\n",
        "users=0\n",
        "\n",
        "distinct_users = network_data1.select('User').distinct().collect()\n",
        "for i in distinct_users:\n",
        "  specific_user = 0\n",
        "  specific_user = network_data1.select('Connections').where(network_data1['User']==i[0]).collect()\n",
        "  for j in specific_user:\n",
        "    common_.append([i[0],j[0]])"
      ],
      "metadata": {
        "id": "DIOF6PQ8oyGh"
      },
      "execution_count": null,
      "outputs": []
    },
    {
      "cell_type": "code",
      "source": [
        "no_connections=0\n",
        "common_.sort()\n"
      ],
      "metadata": {
        "id": "TUUBtCLgU5zZ"
      },
      "execution_count": null,
      "outputs": []
    },
    {
      "cell_type": "code",
      "source": [
        "k=0\n",
        "common_neighbours=list()\n",
        "for i, j in enumerate(common_):\n",
        "  \n",
        "  if connections_list[j[0]]==0 or connections_list_connections[i]==0:\n",
        "    k=0 \n",
        "    common_neighbours.append(k)\n",
        "  else:\n",
        "    B = network_data1.select('Connections').where(network_data1['User']==j[0])\n",
        "\n",
        "    if j[0]!=j[1]:\n",
        "      A = network_data1.select('Connections').where(network_data1['User']==j[1])\n",
        "\n",
        "    k=A.select(\"Connections\").distinct().join((B.select(\"Connections\").distinct()),\\\n",
        "                                                ['Connections'], how='inner').select('Connections').count()\n",
        "    common_neighbours.append(k)"
      ],
      "metadata": {
        "id": "wjW_EeLnVCSC"
      },
      "execution_count": null,
      "outputs": []
    },
    {
      "cell_type": "code",
      "source": [
        "from pyspark.sql.functions import monotonically_increasing_id, row_number\n",
        "from pyspark.sql import Window\n",
        "\n",
        "network_data_temp = network_data1\n",
        "b = spark.createDataFrame([(l,) for l in common_neighbours], ['CommonNeighbours'])\n",
        "\n",
        "#add 'sequential' index and join both dataframe to get the final result\n",
        "network_data_temp = network_data_temp.withColumn(\"row_idx\", row_number().over(Window.orderBy(monotonically_increasing_id())))\n",
        "b = b.withColumn(\"row_idx\", row_number().over(Window.orderBy(monotonically_increasing_id())))\n",
        "\n",
        "network_data_temp = network_data_temp.join(b, network_data_temp.row_idx == b.row_idx).\\\n",
        "             drop(\"row_idx\")\n",
        "\n",
        "b = spark.createDataFrame([(l,) for l in connections_list], ['NoUserConnections'])\n",
        "\n",
        "network_data_temp = network_data_temp.withColumn(\"row_idx\", row_number().over(Window.orderBy(monotonically_increasing_id())))\n",
        "b = b.withColumn(\"row_idx\", row_number().over(Window.orderBy(monotonically_increasing_id())))\n",
        "\n",
        "network_data_temp = network_data_temp.join(b, network_data_temp.row_idx == b.row_idx).\\\n",
        "             drop(\"row_idx\")\n",
        "\n",
        "b = spark.createDataFrame([(l,) for l in connections_list_connections], ['NoConnectionsConnections'])\n",
        "\n",
        "network_data_temp = network_data_temp.withColumn(\"row_idx\", row_number().over(Window.orderBy(monotonically_increasing_id())))\n",
        "b = b.withColumn(\"row_idx\", row_number().over(Window.orderBy(monotonically_increasing_id())))\n",
        "\n",
        "network_data_temp = network_data_temp.join(b, network_data_temp.row_idx == b.row_idx).\\\n",
        "             drop(\"row_idx\")\n",
        "\n",
        "\n",
        "network_data_temp.show()"
      ],
      "metadata": {
        "colab": {
          "base_uri": "https://localhost:8080/"
        },
        "id": "NvqhGpI3VFRI",
        "outputId": "c21ba598-b2ba-4c64-9adc-7174ecef403d"
      },
      "execution_count": null,
      "outputs": [
        {
          "output_type": "stream",
          "name": "stdout",
          "text": [
            "+----+-----------+----------------+-----------------+------------------------+\n",
            "|User|Connections|CommonNeighbours|NoUserConnections|NoConnectionsConnections|\n",
            "+----+-----------+----------------+-----------------+------------------------+\n",
            "|   0|          1|               3|               46|                     210|\n",
            "|   0|          2|               0|               46|                      97|\n",
            "|   0|          3|               3|               46|                     102|\n",
            "|   0|          4|               5|               46|                      71|\n",
            "|   0|          5|               0|               46|                       0|\n",
            "|   0|          6|               0|               46|                       0|\n",
            "|   0|          7|               0|               46|                       0|\n",
            "|   0|          8|               0|               46|                       0|\n",
            "|   0|          9|               0|               46|                       0|\n",
            "|   0|         10|               0|               46|                       0|\n",
            "|   0|         11|               0|               46|                       0|\n",
            "|   0|         12|               0|               46|                       0|\n",
            "|   0|         13|               0|               46|                       0|\n",
            "|   0|         14|               0|               46|                       0|\n",
            "|   0|         15|               0|               46|                       0|\n",
            "|   0|         16|               0|               46|                       0|\n",
            "|   0|         17|               0|               46|                       0|\n",
            "|   0|         18|               0|               46|                       0|\n",
            "|   0|         19|               0|               46|                       0|\n",
            "|   0|         20|               0|               46|                       0|\n",
            "+----+-----------+----------------+-----------------+------------------------+\n",
            "only showing top 20 rows\n",
            "\n"
          ]
        }
      ]
    },
    {
      "cell_type": "code",
      "source": [
        "network_data_temp = network_data_temp.drop('_c0')"
      ],
      "metadata": {
        "id": "DNtSiOAuVK1D"
      },
      "execution_count": null,
      "outputs": []
    },
    {
      "cell_type": "code",
      "source": [
        "network_data_temp.show(50)"
      ],
      "metadata": {
        "colab": {
          "base_uri": "https://localhost:8080/"
        },
        "id": "kIqbRtElVOHM",
        "outputId": "72bd7d91-c6de-4d6d-f79c-df568947b16e"
      },
      "execution_count": null,
      "outputs": [
        {
          "output_type": "stream",
          "name": "stdout",
          "text": [
            "+----+-----------+----------------+-----------------+------------------------+\n",
            "|User|Connections|CommonNeighbours|NoUserConnections|NoConnectionsConnections|\n",
            "+----+-----------+----------------+-----------------+------------------------+\n",
            "|   0|          1|               3|               46|                     210|\n",
            "|   0|          2|               0|               46|                      97|\n",
            "|   0|          3|               3|               46|                     102|\n",
            "|   0|          4|               5|               46|                      71|\n",
            "|   0|          5|               0|               46|                       0|\n",
            "|   0|          6|               0|               46|                       0|\n",
            "|   0|          7|               0|               46|                       0|\n",
            "|   0|          8|               0|               46|                       0|\n",
            "|   0|          9|               0|               46|                       0|\n",
            "|   0|         10|               0|               46|                       0|\n",
            "|   0|         11|               0|               46|                       0|\n",
            "|   0|         12|               0|               46|                       0|\n",
            "|   0|         13|               0|               46|                       0|\n",
            "|   0|         14|               0|               46|                       0|\n",
            "|   0|         15|               0|               46|                       0|\n",
            "|   0|         16|               0|               46|                       0|\n",
            "|   0|         17|               0|               46|                       0|\n",
            "|   0|         18|               0|               46|                       0|\n",
            "|   0|         19|               0|               46|                       0|\n",
            "|   0|         20|               0|               46|                       0|\n",
            "|   0|         21|               0|               46|                       0|\n",
            "|   0|         22|               0|               46|                       0|\n",
            "|   0|         23|               0|               46|                       0|\n",
            "|   0|         24|               0|               46|                       0|\n",
            "|   0|         25|               0|               46|                       0|\n",
            "|   0|         26|               0|               46|                       0|\n",
            "|   0|         27|               0|               46|                       0|\n",
            "|   0|         28|               0|               46|                       0|\n",
            "|   0|         29|               0|               46|                       0|\n",
            "|   0|         30|               0|               46|                       0|\n",
            "|   0|         31|               0|               46|                       0|\n",
            "|   0|         32|               0|               46|                       0|\n",
            "|   0|         33|               0|               46|                       0|\n",
            "|   0|         34|               0|               46|                       0|\n",
            "|   0|         35|               0|               46|                       0|\n",
            "|   0|         36|               0|               46|                       0|\n",
            "|   0|         37|               0|               46|                       0|\n",
            "|   0|         38|               0|               46|                       0|\n",
            "|   0|         39|               0|               46|                       0|\n",
            "|   0|         40|               0|               46|                       0|\n",
            "|   0|         41|               0|               46|                       0|\n",
            "|   0|         42|               0|               46|                       0|\n",
            "|   0|         43|               0|               46|                       0|\n",
            "|   0|         44|               0|               46|                       0|\n",
            "|   0|         45|               0|               46|                       0|\n",
            "|   0|         46|               0|               46|                       0|\n",
            "|   1|          0|               3|              210|                      46|\n",
            "|   1|          1|               3|              210|                     210|\n",
            "|   1|          5|               0|              210|                       0|\n",
            "|   1|         20|               0|              210|                       0|\n",
            "+----+-----------+----------------+-----------------+------------------------+\n",
            "only showing top 50 rows\n",
            "\n"
          ]
        }
      ]
    },
    {
      "cell_type": "code",
      "source": [
        "network_data1 = network_data_temp"
      ],
      "metadata": {
        "id": "xK1pAe-WVP1C"
      },
      "execution_count": null,
      "outputs": []
    },
    {
      "cell_type": "code",
      "source": [
        "def findCN(user,connection):\n",
        "  k=0\n",
        "  A=[]\n",
        "  B=[]\n",
        "  B = network_data1.select('Connections').where(network_data1['User']==user)\n",
        "  if user!=connection:\n",
        "    A = network_data1.select('Connections').where(network_data1['User']==connection)\n",
        "  else:\n",
        "    return 0\n",
        "\n",
        "  k=A.select(\"Connections\").distinct().join((B.select(\"Connections\").distinct()),\\\n",
        "  ['Connections'], how='inner').select('Connections').count()\n",
        "  return k"
      ],
      "metadata": {
        "id": "W-geCL7VVdIy"
      },
      "execution_count": null,
      "outputs": []
    },
    {
      "cell_type": "code",
      "source": [
        "\n",
        "import random\n",
        "from pyspark.sql.functions import col\n",
        "from pyspark.sql.functions import when\n",
        "from pyspark.sql.window import Window\n",
        "import pyspark.sql.functions as F\n",
        "from pyspark.sql.functions import row_number\n",
        "\n",
        "randomlist=list(list())\n",
        "connections_of_user=list()\n",
        "\n",
        "# print(connections_list_distinct)\n",
        "for connection in connections_list_distinct:\n",
        "  connections_of_user.append(int((connection[1]**2)/2))\n",
        "\n",
        "# print(connections_of_user)\n",
        "for connection in connections_of_user:\n",
        "  randomlist.append(random.sample(range(0,6500000),connection))\n",
        "\n",
        "NotConnected=list(list())\n",
        "no_connect=0\n",
        "cn=1\n",
        "count_connected=network_data1.count()\n",
        "network_data1=network_data1.withColumn(\"row_num\",F.row_number().over(Window.partitionBy(network_data1['User']).orderBy(network_data1['User'])))\n",
        "\n",
        "\n",
        "network_data1.createOrReplaceTempView('Network')\n",
        " \n",
        "#Adding every user's non connection\n",
        "\n",
        "for i in range(len(randomlist)):\n",
        "\n",
        "   for j in range(len(randomlist[i])):\n",
        "\n",
        "      rownum=count_connected+1+(i*len(randomlist[i])+j)\n",
        "      if randomlist[i][j]>len(connections_list_distinct):\n",
        "        no_connect=0\n",
        "        NotConnected.append([i,randomlist[i][j],0,connections_list_distinct[i][1],no_connect,rownum])\n",
        "      else:\n",
        "        no_connect=connections_list_distinct[randomlist[i][j]][1]\n",
        "        # print(i,randomlist[i][j])\n",
        "        NotConnected.append([i,randomlist[i][j],findCN(i,randomlist[i][j]),connections_list_distinct[i][1],no_connect,rownum])\n",
        "    \n",
        "\n",
        "\n",
        "NotConnected_df=spark.createDataFrame(NotConnected,network_data1.columns)\n",
        "count_notconnected=NotConnected_df.count()\n",
        "# print(NotConnected_df.show())\n",
        "# print(network_data1.show())\n",
        "# print(count_notconnected)\n",
        "# print(count_connected)\n",
        "network_data1=network_data1.union(NotConnected_df)\n",
        "\n",
        "\n",
        "print(network_data1.show())\n",
        "network_data1=network_data1.dropDuplicates()\n",
        "network_data1 = network_data1.sort(['User', 'Connections'])\n",
        "network_data1=network_data1.withColumn(\"Labels\",network_data1['User']-network_data1['User']+1)\n",
        "network_data1=network_data1.withColumn(\"Labels\",when(network_data1['row_num']>count_connected,0).otherwise(network_data1['Labels']))\n",
        "# network_data1.show()"
      ],
      "metadata": {
        "colab": {
          "base_uri": "https://localhost:8080/"
        },
        "id": "gnNA7ePTVhoI",
        "outputId": "adf3ca94-3c76-4d21-e345-add07c5bf6dc"
      },
      "execution_count": null,
      "outputs": [
        {
          "output_type": "stream",
          "name": "stdout",
          "text": [
            "+----+-----------+----------------+-----------------+------------------------+-------+\n",
            "|User|Connections|CommonNeighbours|NoUserConnections|NoConnectionsConnections|row_num|\n",
            "+----+-----------+----------------+-----------------+------------------------+-------+\n",
            "|   0|          1|               3|               46|                     210|      1|\n",
            "|   0|          2|               0|               46|                      97|      2|\n",
            "|   0|          3|               3|               46|                     102|      3|\n",
            "|   0|          4|               5|               46|                      71|      4|\n",
            "|   0|          5|               0|               46|                       0|      5|\n",
            "|   0|          6|               0|               46|                       0|      6|\n",
            "|   0|          7|               0|               46|                       0|      7|\n",
            "|   0|          8|               0|               46|                       0|      8|\n",
            "|   0|          9|               0|               46|                       0|      9|\n",
            "|   0|         10|               0|               46|                       0|     10|\n",
            "|   0|         11|               0|               46|                       0|     11|\n",
            "|   0|         12|               0|               46|                       0|     12|\n",
            "|   0|         13|               0|               46|                       0|     13|\n",
            "|   0|         14|               0|               46|                       0|     14|\n",
            "|   0|         15|               0|               46|                       0|     15|\n",
            "|   0|         16|               0|               46|                       0|     16|\n",
            "|   0|         17|               0|               46|                       0|     17|\n",
            "|   0|         18|               0|               46|                       0|     18|\n",
            "|   0|         19|               0|               46|                       0|     19|\n",
            "|   0|         20|               0|               46|                       0|     20|\n",
            "+----+-----------+----------------+-----------------+------------------------+-------+\n",
            "only showing top 20 rows\n",
            "\n",
            "None\n"
          ]
        }
      ]
    },
    {
      "cell_type": "code",
      "source": [
        "network_data1 = network_data1.sort('row_num')\n",
        "network_data1.show()"
      ],
      "metadata": {
        "colab": {
          "base_uri": "https://localhost:8080/"
        },
        "id": "6LRRTci3rLgl",
        "outputId": "a142d42e-321d-40c5-f7fc-558252d46493"
      },
      "execution_count": null,
      "outputs": [
        {
          "output_type": "stream",
          "name": "stdout",
          "text": [
            "+----+-----------+----------------+-----------------+------------------------+-------+------+\n",
            "|User|Connections|CommonNeighbours|NoUserConnections|NoConnectionsConnections|row_num|Labels|\n",
            "+----+-----------+----------------+-----------------+------------------------+-------+------+\n",
            "|   4|          0|               5|               71|                      46|      1|     1|\n",
            "|   3|          0|               3|              102|                      46|      1|     1|\n",
            "|   1|          0|               3|              210|                      46|      1|     1|\n",
            "|   2|        117|               0|               97|                       0|      1|     1|\n",
            "|   0|          1|               3|               46|                     210|      1|     1|\n",
            "|   4|          8|               0|               71|                       0|      2|     1|\n",
            "|   2|        135|               0|               97|                       0|      2|     1|\n",
            "|   1|          1|               3|              210|                     210|      2|     1|\n",
            "|   3|          3|               3|              102|                     102|      2|     1|\n",
            "|   0|          2|               0|               46|                      97|      2|     1|\n",
            "|   1|          5|               0|              210|                       0|      3|     1|\n",
            "|   0|          3|               3|               46|                     102|      3|     1|\n",
            "|   4|         14|               0|               71|                       0|      3|     1|\n",
            "|   2|       1220|               0|               97|                       0|      3|     1|\n",
            "|   3|         12|               0|              102|                       0|      3|     1|\n",
            "|   0|          4|               5|               46|                      71|      4|     1|\n",
            "|   4|         15|               0|               71|                       0|      4|     1|\n",
            "|   2|       2755|               0|               97|                       0|      4|     1|\n",
            "|   3|         41|               0|              102|                       0|      4|     1|\n",
            "|   1|         20|               0|              210|                       0|      4|     1|\n",
            "+----+-----------+----------------+-----------------+------------------------+-------+------+\n",
            "only showing top 20 rows\n",
            "\n"
          ]
        }
      ]
    },
    {
      "cell_type": "code",
      "source": [
        "from pyspark.ml.feature import VectorAssembler\n",
        "\n",
        "independentCols = ['User', 'Connections', 'CommonNeighbours', 'NoUserConnections','NoConnectionsConnections']\n",
        "assembler = VectorAssembler(inputCols=independentCols, outputCol=\"features\")\n",
        "network_data1 = assembler.transform(network_data1)\n",
        "network_data1.show()"
      ],
      "metadata": {
        "colab": {
          "base_uri": "https://localhost:8080/"
        },
        "id": "KV4a82PQWKzL",
        "outputId": "88dd114c-2cca-446f-f850-3652ad1c8461"
      },
      "execution_count": null,
      "outputs": [
        {
          "output_type": "stream",
          "name": "stdout",
          "text": [
            "+----+-----------+----------------+-----------------+------------------------+-------+------+--------------------+\n",
            "|User|Connections|CommonNeighbours|NoUserConnections|NoConnectionsConnections|row_num|Labels|            features|\n",
            "+----+-----------+----------------+-----------------+------------------------+-------+------+--------------------+\n",
            "|   3|          0|               3|              102|                      46|      1|     1|[3.0,0.0,3.0,102....|\n",
            "|   2|        117|               0|               97|                       0|      1|     1|[2.0,117.0,0.0,97...|\n",
            "|   4|          0|               5|               71|                      46|      1|     1|[4.0,0.0,5.0,71.0...|\n",
            "|   1|          0|               3|              210|                      46|      1|     1|[1.0,0.0,3.0,210....|\n",
            "|   0|          1|               3|               46|                     210|      1|     1|[0.0,1.0,3.0,46.0...|\n",
            "|   4|          8|               0|               71|                       0|      2|     1|[4.0,8.0,0.0,71.0...|\n",
            "|   1|          1|               3|              210|                     210|      2|     1|[1.0,1.0,3.0,210....|\n",
            "|   0|          2|               0|               46|                      97|      2|     1|[0.0,2.0,0.0,46.0...|\n",
            "|   3|          3|               3|              102|                     102|      2|     1|[3.0,3.0,3.0,102....|\n",
            "|   2|        135|               0|               97|                       0|      2|     1|[2.0,135.0,0.0,97...|\n",
            "|   3|         12|               0|              102|                       0|      3|     1|[3.0,12.0,0.0,102...|\n",
            "|   1|          5|               0|              210|                       0|      3|     1|[1.0,5.0,0.0,210....|\n",
            "|   0|          3|               3|               46|                     102|      3|     1|[0.0,3.0,3.0,46.0...|\n",
            "|   4|         14|               0|               71|                       0|      3|     1|[4.0,14.0,0.0,71....|\n",
            "|   2|       1220|               0|               97|                       0|      3|     1|[2.0,1220.0,0.0,9...|\n",
            "|   0|          4|               5|               46|                      71|      4|     1|[0.0,4.0,5.0,46.0...|\n",
            "|   2|       2755|               0|               97|                       0|      4|     1|[2.0,2755.0,0.0,9...|\n",
            "|   4|         15|               0|               71|                       0|      4|     1|[4.0,15.0,0.0,71....|\n",
            "|   3|         41|               0|              102|                       0|      4|     1|[3.0,41.0,0.0,102...|\n",
            "|   1|         20|               0|              210|                       0|      4|     1|[1.0,20.0,0.0,210...|\n",
            "+----+-----------+----------------+-----------------+------------------------+-------+------+--------------------+\n",
            "only showing top 20 rows\n",
            "\n"
          ]
        }
      ]
    },
    {
      "cell_type": "code",
      "source": [
        "network_data_rdd=network_data1.rdd\n",
        "train, test = network_data1.randomSplit([0.7, 0.3], seed = 2018)"
      ],
      "metadata": {
        "id": "qZ67X1svWcwt"
      },
      "execution_count": null,
      "outputs": []
    },
    {
      "cell_type": "code",
      "source": [
        "from pyspark.ml.classification import RandomForestClassifier\n",
        "rf = RandomForestClassifier(featuresCol = 'features', labelCol = 'Labels')\n",
        "rfModel = rf.fit(train)\n",
        "predictions = rfModel.transform(test)\n",
        "predictions.select(\"Labels\", \"prediction\").show(10)"
      ],
      "metadata": {
        "id": "9QKifJi8Wla1"
      },
      "execution_count": null,
      "outputs": []
    },
    {
      "cell_type": "code",
      "source": [
        "from pyspark.ml.evaluation import MulticlassClassificationEvaluator\n",
        "evaluator = MulticlassClassificationEvaluator(labelCol=\"Labels\", predictionCol=\"prediction\")\n",
        "accuracy = evaluator.evaluate(predictions)\n",
        "print(\"Accuracy = %s\" % (accuracy))\n",
        "print(\"Test Error = %s\" % (1.0 - accuracy))"
      ],
      "metadata": {
        "colab": {
          "base_uri": "https://localhost:8080/"
        },
        "id": "dz4gxJbQnc7N",
        "outputId": "c8770fcb-6675-499b-b76d-197b36721485"
      },
      "execution_count": null,
      "outputs": [
        {
          "output_type": "stream",
          "name": "stdout",
          "text": [
            "Accuracy = 0.9798911463827378\n",
            "Test Error = 0.020108853617262223\n"
          ]
        }
      ]
    },
    {
      "cell_type": "code",
      "source": [
        "#"
      ],
      "metadata": {
        "id": "yhfBzXZMn9lH"
      },
      "execution_count": null,
      "outputs": []
    },
    {
      "cell_type": "code",
      "source": [
        ""
      ],
      "metadata": {
        "id": "HrohUyoHC-xc"
      },
      "execution_count": null,
      "outputs": []
    }
  ]
}